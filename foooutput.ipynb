{
 "cells": [
  {
   "cell_type": "markdown",
   "metadata": {
    "papermill": {
     "duration": 0.007288,
     "end_time": "2020-10-26T09:49:51.094394",
     "exception": false,
     "start_time": "2020-10-26T09:49:51.087106",
     "status": "completed"
    },
    "tags": []
   },
   "source": [
    "# k-means clustering"
   ]
  },
  {
   "cell_type": "code",
   "execution_count": 1,
   "metadata": {
    "execution": {
     "iopub.execute_input": "2020-10-26T09:49:51.106905Z",
     "iopub.status.busy": "2020-10-26T09:49:51.106225Z",
     "iopub.status.idle": "2020-10-26T09:49:51.125337Z",
     "shell.execute_reply": "2020-10-26T09:49:51.124713Z"
    },
    "papermill": {
     "duration": 0.026956,
     "end_time": "2020-10-26T09:49:51.125512",
     "exception": false,
     "start_time": "2020-10-26T09:49:51.098556",
     "status": "completed"
    },
    "tags": []
   },
   "outputs": [],
   "source": [
    "assert 1"
   ]
  },
  {
   "cell_type": "code",
   "execution_count": 2,
   "metadata": {
    "execution": {
     "iopub.execute_input": "2020-10-26T09:49:51.135683Z",
     "iopub.status.busy": "2020-10-26T09:49:51.135151Z",
     "iopub.status.idle": "2020-10-26T09:49:51.160771Z",
     "shell.execute_reply": "2020-10-26T09:49:51.161334Z"
    },
    "papermill": {
     "duration": 0.032293,
     "end_time": "2020-10-26T09:49:51.161519",
     "exception": false,
     "start_time": "2020-10-26T09:49:51.129226",
     "status": "completed"
    },
    "tags": []
   },
   "outputs": [],
   "source": [
    "assert 1"
   ]
  },
  {
   "cell_type": "code",
   "execution_count": 3,
   "metadata": {
    "execution": {
     "iopub.execute_input": "2020-10-26T09:49:51.172956Z",
     "iopub.status.busy": "2020-10-26T09:49:51.172498Z",
     "iopub.status.idle": "2020-10-26T09:49:51.188029Z",
     "shell.execute_reply": "2020-10-26T09:49:51.187628Z"
    },
    "papermill": {
     "duration": 0.021733,
     "end_time": "2020-10-26T09:49:51.188121",
     "exception": false,
     "start_time": "2020-10-26T09:49:51.166388",
     "status": "completed"
    },
    "tags": []
   },
   "outputs": [],
   "source": [
    "x = [1.10]\n",
    "assert np.mean(x) == 1.10"
   ]
  },
  {
   "cell_type": "code",
   "execution_count": 4,
   "metadata": {
    "execution": {
     "iopub.execute_input": "2020-10-26T09:49:51.195649Z",
     "iopub.status.busy": "2020-10-26T09:49:51.195282Z",
     "iopub.status.idle": "2020-10-26T09:49:51.208516Z",
     "shell.execute_reply": "2020-10-26T09:49:51.208139Z"
    },
    "papermill": {
     "duration": 0.017811,
     "end_time": "2020-10-26T09:49:51.208603",
     "exception": false,
     "start_time": "2020-10-26T09:49:51.190792",
     "status": "completed"
    },
    "tags": []
   },
   "outputs": [],
   "source": [
    "assert np.mean(x + x) == 1.10"
   ]
  }
 ],
 "metadata": {
  "kernelspec": {
   "display_name": "Python 3",
   "language": "python",
   "name": "python3"
  },
  "language_info": {
   "codemirror_mode": {
    "name": "ipython",
    "version": 3
   },
   "file_extension": ".py",
   "mimetype": "text/x-python",
   "name": "python",
   "nbconvert_exporter": "python",
   "pygments_lexer": "ipython3",
   "version": "3.8.5"
  },
  "papermill": {
   "default_parameters": {},
   "duration": 2.574804,
   "end_time": "2020-10-26T09:49:51.717164",
   "environment_variables": {},
   "exception": null,
   "input_path": "machine-learning/clustering/k-means/k-means.ipynb",
   "output_path": "foooutput.ipynb",
   "parameters": {},
   "start_time": "2020-10-26T09:49:49.142360",
   "version": "2.2.0"
  }
 },
 "nbformat": 4,
 "nbformat_minor": 4
}
